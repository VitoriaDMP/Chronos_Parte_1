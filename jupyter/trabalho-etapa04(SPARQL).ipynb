{
 "cells": [
  {
   "cell_type": "code",
   "execution_count": 1,
   "metadata": {},
   "outputs": [
    {
     "data": {
      "text/html": [
       "<div class=\"krn-spql\"><div class=\"magic\">Endpoint set to: http://id.nlm.nih.gov/mesh/sparql</div><div class=\"magic\">Display: table</div><div class=\"magic\">Result maximum size: unlimited</div></div>"
      ],
      "text/plain": [
       "Endpoint set to: http://id.nlm.nih.gov/mesh/sparql\n",
       "Display: table\n",
       "Result maximum size: unlimited\n"
      ]
     },
     "metadata": {},
     "output_type": "display_data"
    }
   ],
   "source": [
    "%endpoint http://id.nlm.nih.gov/mesh/sparql\n",
    "%display table\n",
    "%show all"
   ]
  },
  {
   "cell_type": "markdown",
   "metadata": {},
   "source": [
    "1. Buscar conceitos relacionados a doenças na tireoide."
   ]
  },
  {
   "cell_type": "code",
   "execution_count": 7,
   "metadata": {},
   "outputs": [
    {
     "data": {
      "text/html": [
       "<div class=\"krn-spql\"><table><tr class=hdr><th>conc</th></tr><tr class=odd><td class=val><a href=\"http://id.nlm.nih.gov/mesh/D013959\" target=\"_other\">http://id.nlm.nih.gov/mesh/D013959</a></td></tr><tr class=even><td class=val><a href=\"http://id.nlm.nih.gov/mesh/M0021478\" target=\"_other\">http://id.nlm.nih.gov/mesh/M0021478</a></td></tr><tr class=odd><td class=val><a href=\"http://id.nlm.nih.gov/mesh/2017/M0021478\" target=\"_other\">http://id.nlm.nih.gov/mesh/2017/M0021478</a></td></tr><tr class=even><td class=val><a href=\"http://id.nlm.nih.gov/mesh/2015/M0021478\" target=\"_other\">http://id.nlm.nih.gov/mesh/2015/M0021478</a></td></tr><tr class=odd><td class=val><a href=\"http://id.nlm.nih.gov/mesh/2016/D013959\" target=\"_other\">http://id.nlm.nih.gov/mesh/2016/D013959</a></td></tr><tr class=even><td class=val><a href=\"http://id.nlm.nih.gov/mesh/2018/M0021478\" target=\"_other\">http://id.nlm.nih.gov/mesh/2018/M0021478</a></td></tr><tr class=odd><td class=val><a href=\"http://id.nlm.nih.gov/mesh/2017/D013959\" target=\"_other\">http://id.nlm.nih.gov/mesh/2017/D013959</a></td></tr><tr class=even><td class=val><a href=\"http://id.nlm.nih.gov/mesh/2015/D013959\" target=\"_other\">http://id.nlm.nih.gov/mesh/2015/D013959</a></td></tr><tr class=odd><td class=val><a href=\"http://id.nlm.nih.gov/mesh/2018/D013959\" target=\"_other\">http://id.nlm.nih.gov/mesh/2018/D013959</a></td></tr><tr class=even><td class=val><a href=\"http://id.nlm.nih.gov/mesh/2016/M0021478\" target=\"_other\">http://id.nlm.nih.gov/mesh/2016/M0021478</a></td></tr></table><div class=\"tinfo\">Total: 10, Shown: 10</div></div>"
      ]
     },
     "metadata": {},
     "output_type": "display_data"
    }
   ],
   "source": [
    "PREFIX rdf: <http://www.w3.org/1999/02/22-rdf-syntax-ns#>\n",
    "PREFIX rdfs: <http://www.w3.org/2000/01/rdf-schema#>\n",
    "PREFIX xsd: <http://www.w3.org/2001/XMLSchema#>\n",
    "PREFIX owl: <http://www.w3.org/2002/07/owl#>\n",
    "PREFIX meshv: <http://id.nlm.nih.gov/mesh/vocab#>\n",
    "PREFIX mesh: <http://id.nlm.nih.gov/mesh/>\n",
    "PREFIX mesh2015: <http://id.nlm.nih.gov/mesh/2015/>\n",
    "PREFIX mesh2016: <http://id.nlm.nih.gov/mesh/2016/>\n",
    "PREFIX mesh2017: <http://id.nlm.nih.gov/mesh/2017/>\n",
    "PREFIX mesh2018: <http://id.nlm.nih.gov/mesh/2018/>\n",
    "\n",
    "SELECT ?conc \n",
    "WHERE {\n",
    "    mesh:D013959 rdfs:label ?paLabel .\n",
    "    ?conc rdfs:label ?paLabel .\n",
    "\n",
    "}"
   ]
  },
  {
   "cell_type": "markdown",
   "metadata": {},
   "source": [
    "2. Buscar conceitos relacionados a hipertireoidismo."
   ]
  },
  {
   "cell_type": "code",
   "execution_count": 9,
   "metadata": {},
   "outputs": [
    {
     "data": {
      "text/html": [
       "<div class=\"krn-spql\"><table><tr class=hdr><th>conc</th></tr><tr class=odd><td class=val><a href=\"http://id.nlm.nih.gov/mesh/2018/M0010871\" target=\"_other\">http://id.nlm.nih.gov/mesh/2018/M0010871</a></td></tr><tr class=even><td class=val><a href=\"http://id.nlm.nih.gov/mesh/2017/M0010871\" target=\"_other\">http://id.nlm.nih.gov/mesh/2017/M0010871</a></td></tr><tr class=odd><td class=val><a href=\"http://id.nlm.nih.gov/mesh/D006980\" target=\"_other\">http://id.nlm.nih.gov/mesh/D006980</a></td></tr><tr class=even><td class=val><a href=\"http://id.nlm.nih.gov/mesh/2016/D006980\" target=\"_other\">http://id.nlm.nih.gov/mesh/2016/D006980</a></td></tr><tr class=odd><td class=val><a href=\"http://id.nlm.nih.gov/mesh/2016/M0010871\" target=\"_other\">http://id.nlm.nih.gov/mesh/2016/M0010871</a></td></tr><tr class=even><td class=val><a href=\"http://id.nlm.nih.gov/mesh/M0010871\" target=\"_other\">http://id.nlm.nih.gov/mesh/M0010871</a></td></tr><tr class=odd><td class=val><a href=\"http://id.nlm.nih.gov/mesh/2017/D006980\" target=\"_other\">http://id.nlm.nih.gov/mesh/2017/D006980</a></td></tr><tr class=even><td class=val><a href=\"http://id.nlm.nih.gov/mesh/2015/M0010871\" target=\"_other\">http://id.nlm.nih.gov/mesh/2015/M0010871</a></td></tr><tr class=odd><td class=val><a href=\"http://id.nlm.nih.gov/mesh/2018/D006980\" target=\"_other\">http://id.nlm.nih.gov/mesh/2018/D006980</a></td></tr><tr class=even><td class=val><a href=\"http://id.nlm.nih.gov/mesh/2015/D006980\" target=\"_other\">http://id.nlm.nih.gov/mesh/2015/D006980</a></td></tr></table><div class=\"tinfo\">Total: 10, Shown: 10</div></div>"
      ]
     },
     "metadata": {},
     "output_type": "display_data"
    }
   ],
   "source": [
    "PREFIX rdf: <http://www.w3.org/1999/02/22-rdf-syntax-ns#>\n",
    "PREFIX rdfs: <http://www.w3.org/2000/01/rdf-schema#>\n",
    "PREFIX xsd: <http://www.w3.org/2001/XMLSchema#>\n",
    "PREFIX owl: <http://www.w3.org/2002/07/owl#>\n",
    "PREFIX meshv: <http://id.nlm.nih.gov/mesh/vocab#>\n",
    "PREFIX mesh: <http://id.nlm.nih.gov/mesh/>\n",
    "PREFIX mesh2015: <http://id.nlm.nih.gov/mesh/2015/>\n",
    "PREFIX mesh2016: <http://id.nlm.nih.gov/mesh/2016/>\n",
    "PREFIX mesh2017: <http://id.nlm.nih.gov/mesh/2017/>\n",
    "PREFIX mesh2018: <http://id.nlm.nih.gov/mesh/2018/>\n",
    "\n",
    "SELECT ?conc \n",
    "WHERE {\n",
    "    mesh:D006980 rdfs:label ?paLabel .\n",
    "    ?conc rdfs:label ?paLabel .\n",
    "\n",
    "}"
   ]
  },
  {
   "cell_type": "markdown",
   "metadata": {},
   "source": [
    "3. Buscar conceitos relacionados a hipotireoidismo."
   ]
  },
  {
   "cell_type": "code",
   "execution_count": 4,
   "metadata": {},
   "outputs": [
    {
     "data": {
      "text/html": [
       "<div class=\"krn-spql\"><table><tr class=hdr><th>conc</th></tr><tr class=odd><td class=val><a href=\"http://id.nlm.nih.gov/mesh/2018/D007037\" target=\"_other\">http://id.nlm.nih.gov/mesh/2018/D007037</a></td></tr><tr class=even><td class=val><a href=\"http://id.nlm.nih.gov/mesh/2018/M0010948\" target=\"_other\">http://id.nlm.nih.gov/mesh/2018/M0010948</a></td></tr><tr class=odd><td class=val><a href=\"http://id.nlm.nih.gov/mesh/2017/M0010948\" target=\"_other\">http://id.nlm.nih.gov/mesh/2017/M0010948</a></td></tr><tr class=even><td class=val><a href=\"http://id.nlm.nih.gov/mesh/2017/D007037\" target=\"_other\">http://id.nlm.nih.gov/mesh/2017/D007037</a></td></tr><tr class=odd><td class=val><a href=\"http://id.nlm.nih.gov/mesh/2016/D007037\" target=\"_other\">http://id.nlm.nih.gov/mesh/2016/D007037</a></td></tr><tr class=even><td class=val><a href=\"http://id.nlm.nih.gov/mesh/2016/M0010948\" target=\"_other\">http://id.nlm.nih.gov/mesh/2016/M0010948</a></td></tr><tr class=odd><td class=val><a href=\"http://id.nlm.nih.gov/mesh/M0010948\" target=\"_other\">http://id.nlm.nih.gov/mesh/M0010948</a></td></tr><tr class=even><td class=val><a href=\"http://id.nlm.nih.gov/mesh/2015/D007037\" target=\"_other\">http://id.nlm.nih.gov/mesh/2015/D007037</a></td></tr><tr class=odd><td class=val><a href=\"http://id.nlm.nih.gov/mesh/D007037\" target=\"_other\">http://id.nlm.nih.gov/mesh/D007037</a></td></tr><tr class=even><td class=val><a href=\"http://id.nlm.nih.gov/mesh/2015/M0010948\" target=\"_other\">http://id.nlm.nih.gov/mesh/2015/M0010948</a></td></tr></table><div class=\"tinfo\">Total: 10, Shown: 10</div></div>"
      ]
     },
     "metadata": {},
     "output_type": "display_data"
    }
   ],
   "source": [
    "PREFIX rdf: <http://www.w3.org/1999/02/22-rdf-syntax-ns#>\n",
    "PREFIX rdfs: <http://www.w3.org/2000/01/rdf-schema#>\n",
    "PREFIX xsd: <http://www.w3.org/2001/XMLSchema#>\n",
    "PREFIX owl: <http://www.w3.org/2002/07/owl#>\n",
    "PREFIX meshv: <http://id.nlm.nih.gov/mesh/vocab#>\n",
    "PREFIX mesh: <http://id.nlm.nih.gov/mesh/>\n",
    "PREFIX mesh2015: <http://id.nlm.nih.gov/mesh/2015/>\n",
    "PREFIX mesh2016: <http://id.nlm.nih.gov/mesh/2016/>\n",
    "PREFIX mesh2017: <http://id.nlm.nih.gov/mesh/2017/>\n",
    "PREFIX mesh2018: <http://id.nlm.nih.gov/mesh/2018/>\n",
    "\n",
    "SELECT ?conc \n",
    "WHERE {\n",
    "    mesh:D007037 rdfs:label ?paLabel .\n",
    "    ?conc rdfs:label ?paLabel .\n",
    "\n",
    "}"
   ]
  },
  {
   "cell_type": "markdown",
   "metadata": {},
   "source": [
    "4. Buscar conceitos relacionados a bócio."
   ]
  },
  {
   "cell_type": "code",
   "execution_count": 3,
   "metadata": {},
   "outputs": [
    {
     "data": {
      "text/html": [
       "<div class=\"krn-spql\"><table><tr class=hdr><th>conc</th></tr><tr class=odd><td class=val><a href=\"http://id.nlm.nih.gov/mesh/2018/M0009516\" target=\"_other\">http://id.nlm.nih.gov/mesh/2018/M0009516</a></td></tr><tr class=even><td class=val><a href=\"http://id.nlm.nih.gov/mesh/D006042\" target=\"_other\">http://id.nlm.nih.gov/mesh/D006042</a></td></tr><tr class=odd><td class=val><a href=\"http://id.nlm.nih.gov/mesh/2017/M0009516\" target=\"_other\">http://id.nlm.nih.gov/mesh/2017/M0009516</a></td></tr><tr class=even><td class=val><a href=\"http://id.nlm.nih.gov/mesh/2016/M0009516\" target=\"_other\">http://id.nlm.nih.gov/mesh/2016/M0009516</a></td></tr><tr class=odd><td class=val><a href=\"http://id.nlm.nih.gov/mesh/M0009516\" target=\"_other\">http://id.nlm.nih.gov/mesh/M0009516</a></td></tr><tr class=even><td class=val><a href=\"http://id.nlm.nih.gov/mesh/2017/D006042\" target=\"_other\">http://id.nlm.nih.gov/mesh/2017/D006042</a></td></tr><tr class=odd><td class=val><a href=\"http://id.nlm.nih.gov/mesh/2015/D006042\" target=\"_other\">http://id.nlm.nih.gov/mesh/2015/D006042</a></td></tr><tr class=even><td class=val><a href=\"http://id.nlm.nih.gov/mesh/2016/D006042\" target=\"_other\">http://id.nlm.nih.gov/mesh/2016/D006042</a></td></tr><tr class=odd><td class=val><a href=\"http://id.nlm.nih.gov/mesh/2015/M0009516\" target=\"_other\">http://id.nlm.nih.gov/mesh/2015/M0009516</a></td></tr><tr class=even><td class=val><a href=\"http://id.nlm.nih.gov/mesh/2018/D006042\" target=\"_other\">http://id.nlm.nih.gov/mesh/2018/D006042</a></td></tr></table><div class=\"tinfo\">Total: 10, Shown: 10</div></div>"
      ]
     },
     "metadata": {},
     "output_type": "display_data"
    }
   ],
   "source": [
    "PREFIX rdf: <http://www.w3.org/1999/02/22-rdf-syntax-ns#>\n",
    "PREFIX rdfs: <http://www.w3.org/2000/01/rdf-schema#>\n",
    "PREFIX xsd: <http://www.w3.org/2001/XMLSchema#>\n",
    "PREFIX owl: <http://www.w3.org/2002/07/owl#>\n",
    "PREFIX meshv: <http://id.nlm.nih.gov/mesh/vocab#>\n",
    "PREFIX mesh: <http://id.nlm.nih.gov/mesh/>\n",
    "PREFIX mesh2015: <http://id.nlm.nih.gov/mesh/2015/>\n",
    "PREFIX mesh2016: <http://id.nlm.nih.gov/mesh/2016/>\n",
    "PREFIX mesh2017: <http://id.nlm.nih.gov/mesh/2017/>\n",
    "PREFIX mesh2018: <http://id.nlm.nih.gov/mesh/2018/>\n",
    "\n",
    "SELECT ?conc \n",
    "WHERE {\n",
    "    mesh:D006042 rdfs:label ?paLabel .\n",
    "    ?conc rdfs:label ?paLabel .\n",
    "\n",
    "}"
   ]
  },
  {
   "cell_type": "markdown",
   "metadata": {},
   "source": [
    "5. Buscar conceitos relacionados a deficiência de TSH."
   ]
  },
  {
   "cell_type": "code",
   "execution_count": 6,
   "metadata": {},
   "outputs": [
    {
     "data": {
      "text/html": [
       "<div class=\"krn-spql\"><table><tr class=hdr><th>conc</th></tr><tr class=odd><td class=val><a href=\"http://id.nlm.nih.gov/mesh/2018/M000625518\" target=\"_other\">http://id.nlm.nih.gov/mesh/2018/M000625518</a></td></tr><tr class=even><td class=val><a href=\"http://id.nlm.nih.gov/mesh/M000625518\" target=\"_other\">http://id.nlm.nih.gov/mesh/M000625518</a></td></tr></table><div class=\"tinfo\">Total: 2, Shown: 2</div></div>"
      ]
     },
     "metadata": {},
     "output_type": "display_data"
    }
   ],
   "source": [
    "PREFIX rdf: <http://www.w3.org/1999/02/22-rdf-syntax-ns#>\n",
    "PREFIX rdfs: <http://www.w3.org/2000/01/rdf-schema#>\n",
    "PREFIX xsd: <http://www.w3.org/2001/XMLSchema#>\n",
    "PREFIX owl: <http://www.w3.org/2002/07/owl#>\n",
    "PREFIX meshv: <http://id.nlm.nih.gov/mesh/vocab#>\n",
    "PREFIX mesh: <http://id.nlm.nih.gov/mesh/>\n",
    "PREFIX mesh2015: <http://id.nlm.nih.gov/mesh/2015/>\n",
    "PREFIX mesh2016: <http://id.nlm.nih.gov/mesh/2016/>\n",
    "PREFIX mesh2017: <http://id.nlm.nih.gov/mesh/2017/>\n",
    "PREFIX mesh2018: <http://id.nlm.nih.gov/mesh/2018/>\n",
    "\n",
    "SELECT ?conc \n",
    "WHERE {\n",
    "    mesh:M000625518 rdfs:label ?paLabel .\n",
    "    ?conc rdfs:label ?paLabel .\n",
    "\n",
    "}"
   ]
  },
  {
   "cell_type": "markdown",
   "metadata": {},
   "source": [
    "6. Listar hormônios da tireoide."
   ]
  },
  {
   "cell_type": "code",
   "execution_count": 2,
   "metadata": {},
   "outputs": [
    {
     "data": {
      "text/html": [
       "<div class=\"krn-spql\"><table><tr class=hdr><th>descriptor</th>\n",
       "<th>label</th></tr><tr class=odd><td class=val><a href=\"http://id.nlm.nih.gov/mesh/D003918\" target=\"_other\">http://id.nlm.nih.gov/mesh/D003918</a></td>\n",
       "<td class=val>Dextrothyroxine</td></tr><tr class=even><td class=val><a href=\"http://id.nlm.nih.gov/mesh/D004104\" target=\"_other\">http://id.nlm.nih.gov/mesh/D004104</a></td>\n",
       "<td class=val>Diiodothyronines</td></tr><tr class=odd><td class=val><a href=\"http://id.nlm.nih.gov/mesh/D004105\" target=\"_other\">http://id.nlm.nih.gov/mesh/D004105</a></td>\n",
       "<td class=val>Diiodotyrosine</td></tr><tr class=even><td class=val><a href=\"http://id.nlm.nih.gov/mesh/D007470\" target=\"_other\">http://id.nlm.nih.gov/mesh/D007470</a></td>\n",
       "<td class=val>Monoiodotyrosine</td></tr><tr class=odd><td class=val><a href=\"http://id.nlm.nih.gov/mesh/D013962\" target=\"_other\">http://id.nlm.nih.gov/mesh/D013962</a></td>\n",
       "<td class=val>Thyroid (USP)</td></tr><tr class=even><td class=val><a href=\"http://id.nlm.nih.gov/mesh/D013970\" target=\"_other\">http://id.nlm.nih.gov/mesh/D013970</a></td>\n",
       "<td class=val>Thyronines</td></tr><tr class=odd><td class=val><a href=\"http://id.nlm.nih.gov/mesh/D013974\" target=\"_other\">http://id.nlm.nih.gov/mesh/D013974</a></td>\n",
       "<td class=val>Thyroxine</td></tr><tr class=even><td class=val><a href=\"http://id.nlm.nih.gov/mesh/D014284\" target=\"_other\">http://id.nlm.nih.gov/mesh/D014284</a></td>\n",
       "<td class=val>Triiodothyronine</td></tr><tr class=odd><td class=val><a href=\"http://id.nlm.nih.gov/mesh/D014285\" target=\"_other\">http://id.nlm.nih.gov/mesh/D014285</a></td>\n",
       "<td class=val>Triiodothyronine, Reverse</td></tr></table><div class=\"tinfo\">Total: 9, Shown: 9</div></div>"
      ]
     },
     "metadata": {},
     "output_type": "display_data"
    }
   ],
   "source": [
    "PREFIX rdf: <http://www.w3.org/1999/02/22-rdf-syntax-ns#>\n",
    "PREFIX rdfs: <http://www.w3.org/2000/01/rdf-schema#>\n",
    "PREFIX xsd: <http://www.w3.org/2001/XMLSchema#>\n",
    "PREFIX owl: <http://www.w3.org/2002/07/owl#>\n",
    "PREFIX meshv: <http://id.nlm.nih.gov/mesh/vocab#>\n",
    "PREFIX mesh: <http://id.nlm.nih.gov/mesh/>\n",
    "PREFIX mesh2015: <http://id.nlm.nih.gov/mesh/2015/>\n",
    "PREFIX mesh2016: <http://id.nlm.nih.gov/mesh/2016/>\n",
    "PREFIX mesh2017: <http://id.nlm.nih.gov/mesh/2017/>\n",
    "\n",
    "SELECT DISTINCT ?descriptor ?label\n",
    "FROM <http://id.nlm.nih.gov/mesh>\n",
    "\n",
    "WHERE {\n",
    "mesh:D013963 meshv:treeNumber ?treeNum .\n",
    "?childTreeNum meshv:parentTreeNumber+ ?treeNum .\n",
    "?descriptor meshv:treeNumber ?childTreeNum .\n",
    "?descriptor rdfs:label ?label .\n",
    "}\n",
    "\n",
    "ORDER BY ?label"
   ]
  },
  {
   "cell_type": "markdown",
   "metadata": {},
   "source": [
    "7. Retornar conceitos filhos de distúrbios na tireoide."
   ]
  },
  {
   "cell_type": "code",
   "execution_count": 8,
   "metadata": {},
   "outputs": [
    {
     "data": {
      "text/html": [
       "<div class=\"krn-spql\"><table><tr class=hdr><th>descriptor</th>\n",
       "<th>label</th></tr><tr class=odd><td class=val><a href=\"http://id.nlm.nih.gov/mesh/D003409\" target=\"_other\">http://id.nlm.nih.gov/mesh/D003409</a></td>\n",
       "<td class=val>Congenital Hypothyroidism</td></tr><tr class=even><td class=val><a href=\"http://id.nlm.nih.gov/mesh/D005067\" target=\"_other\">http://id.nlm.nih.gov/mesh/D005067</a></td>\n",
       "<td class=val>Euthyroid Sick Syndromes</td></tr><tr class=odd><td class=val><a href=\"http://id.nlm.nih.gov/mesh/D006042\" target=\"_other\">http://id.nlm.nih.gov/mesh/D006042</a></td>\n",
       "<td class=val>Goiter</td></tr><tr class=even><td class=val><a href=\"http://id.nlm.nih.gov/mesh/D006043\" target=\"_other\">http://id.nlm.nih.gov/mesh/D006043</a></td>\n",
       "<td class=val>Goiter, Endemic</td></tr><tr class=odd><td class=val><a href=\"http://id.nlm.nih.gov/mesh/D006044\" target=\"_other\">http://id.nlm.nih.gov/mesh/D006044</a></td>\n",
       "<td class=val>Goiter, Nodular</td></tr><tr class=even><td class=val><a href=\"http://id.nlm.nih.gov/mesh/D006045\" target=\"_other\">http://id.nlm.nih.gov/mesh/D006045</a></td>\n",
       "<td class=val>Goiter, Substernal</td></tr><tr class=odd><td class=val><a href=\"http://id.nlm.nih.gov/mesh/D006111\" target=\"_other\">http://id.nlm.nih.gov/mesh/D006111</a></td>\n",
       "<td class=val>Graves Disease</td></tr><tr class=even><td class=val><a href=\"http://id.nlm.nih.gov/mesh/D049970\" target=\"_other\">http://id.nlm.nih.gov/mesh/D049970</a></td>\n",
       "<td class=val>Graves Ophthalmopathy</td></tr><tr class=odd><td class=val><a href=\"http://id.nlm.nih.gov/mesh/D050031\" target=\"_other\">http://id.nlm.nih.gov/mesh/D050031</a></td>\n",
       "<td class=val>Hashimoto Disease</td></tr><tr class=even><td class=val><a href=\"http://id.nlm.nih.gov/mesh/D006980\" target=\"_other\">http://id.nlm.nih.gov/mesh/D006980</a></td>\n",
       "<td class=val>Hyperthyroidism</td></tr><tr class=odd><td class=val><a href=\"http://id.nlm.nih.gov/mesh/D006981\" target=\"_other\">http://id.nlm.nih.gov/mesh/D006981</a></td>\n",
       "<td class=val>Hyperthyroxinemia</td></tr><tr class=even><td class=val><a href=\"http://id.nlm.nih.gov/mesh/D050010\" target=\"_other\">http://id.nlm.nih.gov/mesh/D050010</a></td>\n",
       "<td class=val>Hyperthyroxinemia, Familial Dysalbuminemic</td></tr><tr class=odd><td class=val><a href=\"http://id.nlm.nih.gov/mesh/D007037\" target=\"_other\">http://id.nlm.nih.gov/mesh/D007037</a></td>\n",
       "<td class=val>Hypothyroidism</td></tr><tr class=even><td class=val><a href=\"http://id.nlm.nih.gov/mesh/D047268\" target=\"_other\">http://id.nlm.nih.gov/mesh/D047268</a></td>\n",
       "<td class=val>Lingual Goiter</td></tr><tr class=odd><td class=val><a href=\"http://id.nlm.nih.gov/mesh/D046151\" target=\"_other\">http://id.nlm.nih.gov/mesh/D046151</a></td>\n",
       "<td class=val>Lingual Thyroid</td></tr><tr class=even><td class=val><a href=\"http://id.nlm.nih.gov/mesh/D009230\" target=\"_other\">http://id.nlm.nih.gov/mesh/D009230</a></td>\n",
       "<td class=val>Myxedema</td></tr><tr class=odd><td class=val><a href=\"http://id.nlm.nih.gov/mesh/D050032\" target=\"_other\">http://id.nlm.nih.gov/mesh/D050032</a></td>\n",
       "<td class=val>Postpartum Thyroiditis</td></tr><tr class=even><td class=val><a href=\"http://id.nlm.nih.gov/mesh/D013958\" target=\"_other\">http://id.nlm.nih.gov/mesh/D013958</a></td>\n",
       "<td class=val>Thyroid Crisis</td></tr><tr class=odd><td class=val><a href=\"http://id.nlm.nih.gov/mesh/D050033\" target=\"_other\">http://id.nlm.nih.gov/mesh/D050033</a></td>\n",
       "<td class=val>Thyroid Dysgenesis</td></tr><tr class=even><td class=val><a href=\"http://id.nlm.nih.gov/mesh/D018382\" target=\"_other\">http://id.nlm.nih.gov/mesh/D018382</a></td>\n",
       "<td class=val>Thyroid Hormone Resistance Syndrome</td></tr><tr class=odd><td class=val><a href=\"http://id.nlm.nih.gov/mesh/D013964\" target=\"_other\">http://id.nlm.nih.gov/mesh/D013964</a></td>\n",
       "<td class=val>Thyroid Neoplasms</td></tr><tr class=even><td class=val><a href=\"http://id.nlm.nih.gov/mesh/D016606\" target=\"_other\">http://id.nlm.nih.gov/mesh/D016606</a></td>\n",
       "<td class=val>Thyroid Nodule</td></tr><tr class=odd><td class=val><a href=\"http://id.nlm.nih.gov/mesh/D013966\" target=\"_other\">http://id.nlm.nih.gov/mesh/D013966</a></td>\n",
       "<td class=val>Thyroiditis</td></tr><tr class=even><td class=val><a href=\"http://id.nlm.nih.gov/mesh/D013967\" target=\"_other\">http://id.nlm.nih.gov/mesh/D013967</a></td>\n",
       "<td class=val>Thyroiditis, Autoimmune</td></tr><tr class=odd><td class=val><a href=\"http://id.nlm.nih.gov/mesh/D013968\" target=\"_other\">http://id.nlm.nih.gov/mesh/D013968</a></td>\n",
       "<td class=val>Thyroiditis, Subacute</td></tr><tr class=even><td class=val><a href=\"http://id.nlm.nih.gov/mesh/D013969\" target=\"_other\">http://id.nlm.nih.gov/mesh/D013969</a></td>\n",
       "<td class=val>Thyroiditis, Suppurative</td></tr><tr class=odd><td class=val><a href=\"http://id.nlm.nih.gov/mesh/D013971\" target=\"_other\">http://id.nlm.nih.gov/mesh/D013971</a></td>\n",
       "<td class=val>Thyrotoxicosis</td></tr></table><div class=\"tinfo\">Total: 27, Shown: 27</div></div>"
      ]
     },
     "metadata": {},
     "output_type": "display_data"
    }
   ],
   "source": [
    "PREFIX rdf: <http://www.w3.org/1999/02/22-rdf-syntax-ns#>\n",
    "PREFIX rdfs: <http://www.w3.org/2000/01/rdf-schema#>\n",
    "PREFIX xsd: <http://www.w3.org/2001/XMLSchema#>\n",
    "PREFIX owl: <http://www.w3.org/2002/07/owl#>\n",
    "PREFIX meshv: <http://id.nlm.nih.gov/mesh/vocab#>\n",
    "PREFIX mesh: <http://id.nlm.nih.gov/mesh/>\n",
    "PREFIX mesh2015: <http://id.nlm.nih.gov/mesh/2015/>\n",
    "PREFIX mesh2016: <http://id.nlm.nih.gov/mesh/2016/>\n",
    "PREFIX mesh2017: <http://id.nlm.nih.gov/mesh/2017/>\n",
    "\n",
    "SELECT DISTINCT ?descriptor ?label\n",
    "FROM <http://id.nlm.nih.gov/mesh>\n",
    "\n",
    "WHERE {\n",
    "mesh:D013959 meshv:treeNumber ?treeNum .\n",
    "?childTreeNum meshv:parentTreeNumber+ ?treeNum .\n",
    "?descriptor meshv:treeNumber ?childTreeNum .\n",
    "?descriptor rdfs:label ?label .\n",
    "}\n",
    "\n",
    "ORDER BY ?label"
   ]
  },
  {
   "cell_type": "markdown",
   "metadata": {},
   "source": [
    "8. Retornar conceitos filhos de hipertireoidismo."
   ]
  },
  {
   "cell_type": "code",
   "execution_count": 10,
   "metadata": {},
   "outputs": [
    {
     "data": {
      "text/html": [
       "<div class=\"krn-spql\"><table><tr class=hdr><th>descriptor</th>\n",
       "<th>label</th></tr><tr class=odd><td class=val><a href=\"http://id.nlm.nih.gov/mesh/D006111\" target=\"_other\">http://id.nlm.nih.gov/mesh/D006111</a></td>\n",
       "<td class=val>Graves Disease</td></tr><tr class=even><td class=val><a href=\"http://id.nlm.nih.gov/mesh/D049970\" target=\"_other\">http://id.nlm.nih.gov/mesh/D049970</a></td>\n",
       "<td class=val>Graves Ophthalmopathy</td></tr><tr class=odd><td class=val><a href=\"http://id.nlm.nih.gov/mesh/D013958\" target=\"_other\">http://id.nlm.nih.gov/mesh/D013958</a></td>\n",
       "<td class=val>Thyroid Crisis</td></tr><tr class=even><td class=val><a href=\"http://id.nlm.nih.gov/mesh/D013971\" target=\"_other\">http://id.nlm.nih.gov/mesh/D013971</a></td>\n",
       "<td class=val>Thyrotoxicosis</td></tr></table><div class=\"tinfo\">Total: 4, Shown: 4</div></div>"
      ]
     },
     "metadata": {},
     "output_type": "display_data"
    }
   ],
   "source": [
    "PREFIX rdf: <http://www.w3.org/1999/02/22-rdf-syntax-ns#>\n",
    "PREFIX rdfs: <http://www.w3.org/2000/01/rdf-schema#>\n",
    "PREFIX xsd: <http://www.w3.org/2001/XMLSchema#>\n",
    "PREFIX owl: <http://www.w3.org/2002/07/owl#>\n",
    "PREFIX meshv: <http://id.nlm.nih.gov/mesh/vocab#>\n",
    "PREFIX mesh: <http://id.nlm.nih.gov/mesh/>\n",
    "PREFIX mesh2015: <http://id.nlm.nih.gov/mesh/2015/>\n",
    "PREFIX mesh2016: <http://id.nlm.nih.gov/mesh/2016/>\n",
    "PREFIX mesh2017: <http://id.nlm.nih.gov/mesh/2017/>\n",
    "\n",
    "SELECT DISTINCT ?descriptor ?label\n",
    "FROM <http://id.nlm.nih.gov/mesh>\n",
    "\n",
    "WHERE {\n",
    "mesh:D006980 meshv:treeNumber ?treeNum .\n",
    "?childTreeNum meshv:parentTreeNumber+ ?treeNum .\n",
    "?descriptor meshv:treeNumber ?childTreeNum .\n",
    "?descriptor rdfs:label ?label .\n",
    "}\n",
    "\n",
    "ORDER BY ?label"
   ]
  },
  {
   "cell_type": "markdown",
   "metadata": {},
   "source": [
    "9. Retornar conceitos filhos de hipotireoidismo."
   ]
  },
  {
   "cell_type": "code",
   "execution_count": 5,
   "metadata": {},
   "outputs": [
    {
     "data": {
      "text/html": [
       "<div class=\"krn-spql\"><table><tr class=hdr><th>descriptor</th>\n",
       "<th>label</th></tr><tr class=odd><td class=val><a href=\"http://id.nlm.nih.gov/mesh/D003409\" target=\"_other\">http://id.nlm.nih.gov/mesh/D003409</a></td>\n",
       "<td class=val>Congenital Hypothyroidism</td></tr><tr class=even><td class=val><a href=\"http://id.nlm.nih.gov/mesh/D009230\" target=\"_other\">http://id.nlm.nih.gov/mesh/D009230</a></td>\n",
       "<td class=val>Myxedema</td></tr></table><div class=\"tinfo\">Total: 2, Shown: 2</div></div>"
      ]
     },
     "metadata": {},
     "output_type": "display_data"
    }
   ],
   "source": [
    "PREFIX rdf: <http://www.w3.org/1999/02/22-rdf-syntax-ns#>\n",
    "PREFIX rdfs: <http://www.w3.org/2000/01/rdf-schema#>\n",
    "PREFIX xsd: <http://www.w3.org/2001/XMLSchema#>\n",
    "PREFIX owl: <http://www.w3.org/2002/07/owl#>\n",
    "PREFIX meshv: <http://id.nlm.nih.gov/mesh/vocab#>\n",
    "PREFIX mesh: <http://id.nlm.nih.gov/mesh/>\n",
    "PREFIX mesh2015: <http://id.nlm.nih.gov/mesh/2015/>\n",
    "PREFIX mesh2016: <http://id.nlm.nih.gov/mesh/2016/>\n",
    "PREFIX mesh2017: <http://id.nlm.nih.gov/mesh/2017/>\n",
    "\n",
    "SELECT DISTINCT ?descriptor ?label\n",
    "FROM <http://id.nlm.nih.gov/mesh>\n",
    "\n",
    "WHERE {\n",
    "mesh:D007037 meshv:treeNumber ?treeNum .\n",
    "?childTreeNum meshv:parentTreeNumber+ ?treeNum .\n",
    "?descriptor meshv:treeNumber ?childTreeNum .\n",
    "?descriptor rdfs:label ?label .\n",
    "}\n",
    "\n",
    "ORDER BY ?label"
   ]
  },
  {
   "cell_type": "code",
   "execution_count": null,
   "metadata": {},
   "outputs": [],
   "source": []
  }
 ],
 "metadata": {
  "kernelspec": {
   "display_name": "SPARQL",
   "language": "sparql",
   "name": "sparql"
  },
  "language_info": {
   "codemirror_mode": {
    "name": "sparql"
   },
   "mimetype": "application/sparql-query",
   "name": "sparql",
   "pygments_lexer": "sparql-nb"
  }
 },
 "nbformat": 4,
 "nbformat_minor": 2
}
