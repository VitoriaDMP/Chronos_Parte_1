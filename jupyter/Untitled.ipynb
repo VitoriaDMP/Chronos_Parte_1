{
 "cells": [
  {
   "cell_type": "code",
   "execution_count": 15,
   "metadata": {},
   "outputs": [],
   "source": [
    "%defaultDatasource jdbc:h2:mem:db"
   ]
  },
  {
   "cell_type": "code",
   "execution_count": 17,
   "metadata": {},
   "outputs": [],
   "source": [
    "DROP TABLE IF EXISTS DISEASE;\n",
    "DROP TABLE IF EXISTS DIAGNOSIS;\n",
    "DROP TABLE IF EXISTS PATIENT;\n",
    "\n",
    "CREATE TABLE DISEASE(\n",
    "    id_disease VARCHAR(5) NOT NULL, \n",
    "    name VARCHAR(20) NOT NULL, \n",
    "    category VARCHAR(20),\n",
    "    PRIMARY KEY(id_disease)\n",
    ") AS SELECT \n",
    "    id_disease, \n",
    "    name, \n",
    "    category\n",
    "\n",
    "FROM CSVREAD('disease.csv');\n",
    "\n",
    "--CREATE TABLE DIAGNOSIS(\n",
    "--   id_diagnosis VARCHAR(5) NOT NULL, \n",
    "--   id_disease VARCHAR(5), \n",
    "--   PRIMARY KEY(id_diagnosis),\n",
    "--  \n",
    "--) AS SELECT \n",
    "--    id_diagnosis,\n",
    "--   id_disease\n",
    "\n",
    "--FROM CSVREAD('diagnosis.csv');\n",
    "\n",
    "CREATE TABLE PATIENT(\n",
    "    id_patient INTEGER NOT NULL,\n",
    "    id_diagnosis VARCHAR(5),\n",
    "    age INTEGER, \n",
    "    sex CHAR,\n",
    "    pregnant BOOL,\n",
    "    tumor BOOL,\n",
    "    sick BOOL,\n",
    "    psych BOOL,\n",
    "    goitre BOOL,\n",
    "    PRIMARY KEY(id_patient),\n",
    "    FOREIGN KEY(id_diagnosis)\n",
    "        REFERENCES disease(id_disease)\n",
    "          ON DELETE NO ACTION\n",
    "          ON UPDATE NO ACTION,\n",
    ") AS SELECT \n",
    "    id_patient,\n",
    "    id_diagnosis,\n",
    "    age,\n",
    "    sex,\n",
    "    pregnant,\n",
    "    tumor,\n",
    "    sick,\n",
    "    psych,\n",
    "    goitre\n",
    "\n",
    "FROM CSVREAD('patient.csv');\n",
    "\n"
   ]
  },
  {
   "cell_type": "code",
   "execution_count": 19,
   "metadata": {},
   "outputs": [
    {
     "data": {
      "application/vnd.jupyter.widget-view+json": {
       "model_id": "4dd3f37c-78dc-4ae1-b888-4a5ac0f8e1d8",
       "version_major": 2,
       "version_minor": 0
      },
      "method": "display_data"
     },
     "metadata": {},
     "output_type": "display_data"
    },
    {
     "data": {
      "application/vnd.jupyter.widget-view+json": {
       "model_id": "addb801d-82ac-45f2-8385-ade5aab3590d",
       "version_major": 2,
       "version_minor": 0
      },
      "method": "display_data"
     },
     "metadata": {},
     "output_type": "display_data"
    }
   ],
   "source": [
    "SELECT * FROM DISEASE;\n",
    "SELECT * FROM PATIENT;"
   ]
  },
  {
   "cell_type": "code",
   "execution_count": null,
   "metadata": {},
   "outputs": [],
   "source": []
  }
 ],
 "metadata": {
  "kernelspec": {
   "display_name": "SQL",
   "language": "SQL",
   "name": "sql"
  },
  "language_info": {
   "codemirror_mode": "sql",
   "file_extension": ".sql",
   "mimetype": "",
   "name": "SQL",
   "nbconverter_exporter": "",
   "version": ""
  },
  "toc": {
   "base_numbering": 1,
   "nav_menu": {},
   "number_sections": false,
   "sideBar": false,
   "skip_h1_title": false,
   "title_cell": "Table of Contents",
   "title_sidebar": "Contents",
   "toc_cell": false,
   "toc_position": {},
   "toc_section_display": false,
   "toc_window_display": false
  }
 },
 "nbformat": 4,
 "nbformat_minor": 2
}
