{
 "cells": [
  {
   "cell_type": "code",
   "execution_count": 1,
   "metadata": {},
   "outputs": [],
   "source": [
    "%defaultDatasource jdbc:h2:mem:db"
   ]
  },
  {
   "cell_type": "code",
   "execution_count": 2,
   "metadata": {},
   "outputs": [],
   "source": [
    "DROP TABLE IF EXISTS DISEASE;\n",
    "DROP TABLE IF EXISTS DIAGNOSIS;\n",
    "DROP TABLE IF EXISTS PATIENT;\n",
    "\n",
    "CREATE TABLE DISEASE(\n",
    "    id_disease VARCHAR(5) NOT NULL, \n",
    "    name VARCHAR(20) NOT NULL, \n",
    "    category VARCHAR(20),\n",
    "    PRIMARY KEY(id_disease)\n",
    ") AS SELECT \n",
    "    id_disease, \n",
    "    name, \n",
    "    category\n",
    "\n",
    "FROM CSVREAD('disease.csv');\n",
    "\n",
    "--CREATE TABLE DIAGNOSIS(\n",
    "--   id_diagnosis VARCHAR(5) NOT NULL, \n",
    "--   id_disease VARCHAR(5), \n",
    "--   PRIMARY KEY(id_diagnosis),\n",
    "--  \n",
    "--) AS SELECT \n",
    "--    id_diagnosis,\n",
    "--   id_disease\n",
    "\n",
    "--FROM CSVREAD('diagnosis.csv');\n",
    "\n",
    "CREATE TABLE PATIENT(\n",
    "    id_patient INTEGER NOT NULL,\n",
    "    id_disease VARCHAR(5),\n",
    "    age INTEGER, \n",
    "    sex CHAR,\n",
    "    pregnant BOOL,\n",
    "    tumor BOOL,\n",
    "    sick BOOL,\n",
    "    psych BOOL,\n",
    "    goitre BOOL,\n",
    "    PRIMARY KEY(id_patient),\n",
    "    FOREIGN KEY(id_disease)\n",
    "        REFERENCES disease(id_disease)\n",
    "          ON DELETE NO ACTION\n",
    "          ON UPDATE NO ACTION,\n",
    ") AS SELECT \n",
    "    id_patient,\n",
    "    id_disease,\n",
    "    age,\n",
    "    sex,\n",
    "    pregnant,\n",
    "    tumor,\n",
    "    sick,\n",
    "    psych,\n",
    "    goitre\n",
    "\n",
    "FROM CSVREAD('patient.csv');\n",
    "\n",
    "\n",
    "CREATE TABLE ITEM(\n",
    "    id_item INTEGER NOT NULL,\n",
    "    id_patient INTEGER NOT NULL,\n",
    "    name VARCHAR(30),\n",
    "    result BOOL, \n",
    "    value FLOAT,\n",
    "    PRIMARY KEY(id_item),\n",
    "    FOREIGN KEY(id_patient)\n",
    "        REFERENCES patient(id_patient)\n",
    "          ON DELETE NO ACTION\n",
    "          ON UPDATE NO ACTION,\n",
    ") AS SELECT \n",
    "id_item,id_patient,name,result,value\n",
    "\n",
    "FROM CSVREAD('item.csv');"
   ]
  },
  {
   "cell_type": "code",
   "execution_count": 3,
   "metadata": {},
   "outputs": [
    {
     "data": {
      "application/vnd.jupyter.widget-view+json": {
       "model_id": "652f82b8-74cc-4847-8d05-5696391af434",
       "version_major": 2,
       "version_minor": 0
      },
      "method": "display_data"
     },
     "metadata": {},
     "output_type": "display_data"
    },
    {
     "data": {
      "application/vnd.jupyter.widget-view+json": {
       "model_id": "a89c5a82-bf26-4247-9255-f417e74f7cec",
       "version_major": 2,
       "version_minor": 0
      },
      "method": "display_data"
     },
     "metadata": {},
     "output_type": "display_data"
    },
    {
     "data": {
      "application/vnd.jupyter.widget-view+json": {
       "model_id": "2656d31c-aab1-4beb-b265-3624e42023ab",
       "version_major": 2,
       "version_minor": 0
      },
      "method": "display_data"
     },
     "metadata": {},
     "output_type": "display_data"
    }
   ],
   "source": [
    "SELECT * FROM DISEASE;\n",
    "SELECT * FROM PATIENT;\n",
    "SELECT * FROM ITEM;"
   ]
  },
  {
   "cell_type": "code",
   "execution_count": null,
   "metadata": {},
   "outputs": [],
   "source": []
  }
 ],
 "metadata": {
  "kernelspec": {
   "display_name": "SQL",
   "language": "SQL",
   "name": "sql"
  },
  "language_info": {
   "codemirror_mode": "sql",
   "file_extension": ".sql",
   "mimetype": "",
   "name": "SQL",
   "nbconverter_exporter": "",
   "version": ""
  },
  "toc": {
   "base_numbering": 1,
   "nav_menu": {},
   "number_sections": false,
   "sideBar": false,
   "skip_h1_title": false,
   "title_cell": "Table of Contents",
   "title_sidebar": "Contents",
   "toc_cell": false,
   "toc_position": {},
   "toc_section_display": false,
   "toc_window_display": false
  }
 },
 "nbformat": 4,
 "nbformat_minor": 2
}
